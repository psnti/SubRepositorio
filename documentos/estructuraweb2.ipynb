{
 "cells": [
  {
   "cell_type": "code",
   "execution_count": 57,
   "metadata": {},
   "outputs": [],
   "source": [
    "import xarray as xr\n",
    "import pandas as pd\n",
    "from joblib import load\n",
    "import os\n",
    "import math\n",
    "from datetime import datetime,timedelta\n",
    "from sklearn import preprocessing"
   ]
  },
  {
   "cell_type": "code",
   "execution_count": 2,
   "metadata": {},
   "outputs": [],
   "source": [
    "def redondeo(coordenadas, base=1/12):\n",
    "    \"\"\"\n",
    "    Devuelve las coordenadas pasadas redondeadas\n",
    "    \n",
    "    Parametros:\n",
    "    coordenadas -- lista de latitud y longitud\n",
    "    base -- base del redondeo\n",
    "    \"\"\"\n",
    "    return  base * round(coordenadas/base)\n"
   ]
  },
  {
   "cell_type": "code",
   "execution_count": 3,
   "metadata": {},
   "outputs": [],
   "source": [
    "fecha = '2018-11-16'\n",
    "coordenadas = '[-26.99053888888889, -70.78993333333334]'\n",
    "salto = 1/12\n",
    "var = ['mlotst','zos','bottomT','thetao','so','uo','vo']"
   ]
  },
  {
   "cell_type": "code",
   "execution_count": 4,
   "metadata": {},
   "outputs": [
    {
     "data": {
      "text/plain": [
       "[-27.0, -70.75]"
      ]
     },
     "execution_count": 4,
     "metadata": {},
     "output_type": "execute_result"
    }
   ],
   "source": [
    "separacion = coordenadas.index(', ')\n",
    "final = coordenadas.index(']')\n",
    "coordenadas = [float(coordenadas[1:separacion]),float(coordenadas[separacion+2:final])]\n",
    "coordenadas = [redondeo(coordenadas[0]),redondeo(coordenadas[1])]\n",
    "coordenadas"
   ]
  },
  {
   "cell_type": "code",
   "execution_count": 85,
   "metadata": {},
   "outputs": [],
   "source": [
    "def genera_resultados(fecha, coordenadas):\n",
    "    # se cogerian los datos de copernicus\n",
    "    # generar dataframe\n",
    "    #normalizarlo\n",
    "    # meterlo al modelo\n",
    "    modelo = load('C:\\\\Users\\pablo\\Desktop\\medusas\\static\\modelo.joblib')\n",
    "    df,fechas = genera_estructura(fecha,coordenadas)\n",
    "    df = normaliza_min_max(df)\n",
    "    salida = modelo.predict(df)\n",
    "    print(salida,fechas)\n",
    "    lista_salida = []\n",
    "    for avist,date in zip(salida,fechas):\n",
    "        lista_salida.append({'y':date,'v':int(avist)})\n",
    "    return lista_salida"
   ]
  },
  {
   "cell_type": "code",
   "execution_count": 70,
   "metadata": {},
   "outputs": [],
   "source": [
    "def genera_estructura(f,c):\n",
    "    dataframe = pd.DataFrame(columns=list(range(231)))\n",
    "    fechas = genera_fechas(f)\n",
    "    for index,dia in enumerate(fechas):\n",
    "        listado_variables = []\n",
    "        # cargo el dataset\n",
    "        ds =busca_archivo(dia) # cambiar para cada dia\n",
    "        c = comprueba_datos(c[0],c[1],ds)\n",
    "        coord = dame_coordenadas(c)\n",
    "\n",
    "        for j in coord:\n",
    "            variables1 = ds.sel({'latitude':coord[0][0],'longitude': coord[0][1], 'depth' : 0 },method='nearest').to_dataframe()\n",
    "            l1 = dame_lista(variables1)[0]\n",
    "            variables2 = ds.sel({'latitude':coord[1][0],'longitude': coord[1][1], 'depth' : 5 },method='nearest').to_dataframe()\n",
    "            l2 = dame_lista(variables2)[0]\n",
    "            variables3 = ds.sel({'latitude':coord[2][0],'longitude': coord[2][1], 'depth' : 10},method='nearest').to_dataframe()\n",
    "            l3 = dame_lista(variables3)[0]\n",
    "            l1+=l2\n",
    "            l1+=l3\n",
    "            listado_variables+=(l1)\n",
    "        dataframe.loc[index] = listado_variables\n",
    "    return dataframe,fechas"
   ]
  },
  {
   "cell_type": "code",
   "execution_count": 71,
   "metadata": {},
   "outputs": [],
   "source": [
    "def normaliza_min_max(df_atributos):\n",
    "    \"\"\"\n",
    "    Normaliza los datos del dataframe pasado\n",
    "    \"\"\"\n",
    "    X = df_atributos.values.tolist()\n",
    "    n = load('normalizador.pkl') \n",
    "    x_normalizado_2 = n.transform(X)\n",
    "    df_norm = pd.DataFrame(x_normalizado_2,columns=list(range(231)))\n",
    "    return df_norm"
   ]
  },
  {
   "cell_type": "code",
   "execution_count": 72,
   "metadata": {},
   "outputs": [],
   "source": [
    "def genera_fechas(f):\n",
    "    lista_fechas = []\n",
    "    for i in range(5):\n",
    "        fecha= datetime.strptime(f, '%Y-%m-%d')\n",
    "        fecha += timedelta(days=i)\n",
    "        lista_fechas.append(str(fecha))\n",
    "    return lista_fechas\n",
    "\n",
    "def dame_lista(df):\n",
    "    Row_list = []\n",
    "    for index, rows in df.iterrows(): \n",
    "        my_list =[rows.mlotst, rows.zos, rows.bottomT, rows.thetao, rows.so,\n",
    "                 rows.uo, rows.vo] \n",
    "        Row_list.append(my_list) \n",
    "\n",
    "    # Print the list \n",
    "    return Row_list\n",
    "\n",
    "def busca_archivo(fecha):\n",
    "    \"\"\"\n",
    "    Devuelve el archivo .nc de la fecha pasada por parametro\n",
    "    \n",
    "    Parametros:\n",
    "    fecha -- fecha en formato AñoMesDia (20140105)\n",
    "    \"\"\"\n",
    "    listado_archivos = os.listdir('C:\\\\Users\\pablo\\Desktop\\medusas\\documentos\\copernicus') # Listo todos los archivos de Copernicus\n",
    "    texto ='_{}_'.format(str(fecha).split()[0].replace('-',''))\n",
    "    archivo = [x for x in listado_archivos if str(texto) in x]\n",
    "    data = xr.open_dataset('C:\\\\Users\\pablo\\Desktop\\medusas\\documentos\\copernicus\\{}'.format(archivo[0])) # cargo el archivo\n",
    "    return data # devuelvo dataset\n",
    "\n",
    "def dame_coordenadas(c):\n",
    "    paso = 1/12\n",
    "    return [[c[0],c[1]],\n",
    "            [c[0],c[1]-paso],[c[0]+paso,c[1]-paso],[c[0]+(paso*2),c[1]-paso],[c[0]-paso,c[1]-paso],[c[0]-(paso*2),c[1]-paso],\n",
    "           [c[0],c[1]-(2*paso)],[c[0]+paso,c[1]-(2*paso)],[c[0]+(paso*2),c[1]-(2*paso)],[c[0]-paso,c[1]-(2*paso)],[c[0]-(paso*2),c[1]-(2*paso)]]\n",
    "\n",
    "def comprueba_datos(latitud,longitud,ds):\n",
    "    \"\"\"\n",
    "    Comprueba si el dataset contiene valores en las coordenadas pasadas\n",
    "    \n",
    "    Devuelve las coordenadas mas cercanas con datos \n",
    "    \n",
    "    Parametros:\n",
    "    latitud -- latitud\n",
    "    longitud -- longitud\n",
    "    ds -- dataset del que extraer los valores\n",
    "    \"\"\"\n",
    "    valor = dame_datos(latitud,longitud,ds)\n",
    "    while math.isnan(valor.mlotst[0]):\n",
    "        longitud = longitud - salto\n",
    "        valor = dame_datos(latitud,longitud,ds)\n",
    "    return latitud,longitud # devuelvo las coordenadas con datos\n",
    "\n",
    "def dame_datos(latitud,longitud,ds):\n",
    "    \"\"\"\n",
    "    Devuelve los datos del dataset en las coordenadas pasadas\n",
    "    \n",
    "    Parametros:\n",
    "    latitud -- latitud \n",
    "    longitud -- longitud\n",
    "    ds -- dataset del que extraer los valores\n",
    "    \"\"\"\n",
    "    return ds.sel({'latitude':latitud,'longitude': longitud})"
   ]
  },
  {
   "cell_type": "code",
   "execution_count": 86,
   "metadata": {
    "scrolled": false
   },
   "outputs": [
    {
     "name": "stdout",
     "output_type": "stream",
     "text": [
      "[100.   5.  23.  23.  17.] ['2018-11-16 00:00:00', '2018-11-17 00:00:00', '2018-11-18 00:00:00', '2018-11-19 00:00:00', '2018-11-20 00:00:00']\n"
     ]
    },
    {
     "data": {
      "text/plain": [
       "[{'y': '2018-11-16 00:00:00', 'v': 100},\n",
       " {'y': '2018-11-17 00:00:00', 'v': 5},\n",
       " {'y': '2018-11-18 00:00:00', 'v': 23},\n",
       " {'y': '2018-11-19 00:00:00', 'v': 23},\n",
       " {'y': '2018-11-20 00:00:00', 'v': 17}]"
      ]
     },
     "execution_count": 86,
     "metadata": {},
     "output_type": "execute_result"
    }
   ],
   "source": [
    "d = genera_resultados(fecha,coordenadas)\n",
    "d"
   ]
  },
  {
   "cell_type": "code",
   "execution_count": null,
   "metadata": {},
   "outputs": [],
   "source": []
  },
  {
   "cell_type": "code",
   "execution_count": null,
   "metadata": {},
   "outputs": [],
   "source": []
  }
 ],
 "metadata": {
  "kernelspec": {
   "display_name": "Python 3",
   "language": "python",
   "name": "python3"
  },
  "language_info": {
   "codemirror_mode": {
    "name": "ipython",
    "version": 3
   },
   "file_extension": ".py",
   "mimetype": "text/x-python",
   "name": "python",
   "nbconvert_exporter": "python",
   "pygments_lexer": "ipython3",
   "version": "3.7.6"
  }
 },
 "nbformat": 4,
 "nbformat_minor": 4
}
